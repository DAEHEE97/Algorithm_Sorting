{
 "cells": [
  {
   "cell_type": "markdown",
   "id": "89db041b",
   "metadata": {},
   "source": [
    "# 18870_sorting-좌표 압축"
   ]
  },
  {
   "cell_type": "markdown",
   "id": "fa2a4954",
   "metadata": {},
   "source": [
    "- set, list 정렬처리 하여, lst 값을 순서대로 처리, 후 dic idx 처리\n",
    "- set, dic을 이용한 정렬 "
   ]
  },
  {
   "cell_type": "code",
   "execution_count": 23,
   "id": "c7d7e18a",
   "metadata": {},
   "outputs": [
    {
     "name": "stdout",
     "output_type": "stream",
     "text": [
      "5\n",
      "2 4 -10 4 -9\n",
      "2 3 0 3 1 "
     ]
    }
   ],
   "source": [
    "# -10 > 0, -9 > 1, 2 > 2, 4 > 3\n",
    "# 999 > 0, 1000 > 1,\n",
    "\n",
    "N = int(input())\n",
    "\n",
    "lst = list(map(int, input().split()))\n",
    "\n",
    "\n",
    "# 1-1) set, 정렬 처리 후 리스트 변환\n",
    "sset = sorted(set(lst))\n",
    "\n",
    "\n",
    "# 1-2) dic, 순서 박제\n",
    "\n",
    "dic = {}\n",
    "\n",
    "for i in range(0, len(sset)):\n",
    "    dic[sset[i]] = i\n",
    "    \n",
    "    \n",
    "for n in lst:\n",
    "    print(dic[n], end = ' ')"
   ]
  },
  {
   "cell_type": "markdown",
   "id": "769776ad",
   "metadata": {},
   "source": [
    "---"
   ]
  },
  {
   "cell_type": "markdown",
   "id": "60703189",
   "metadata": {},
   "source": [
    "- 나보다 작은 것들의 개수 > 순회, cnt += 1 처리\n",
    "\n",
    "- 중복 > set 처리\n",
    "\n",
    "- 몇번째가 아니라, cnt임을 알아야함."
   ]
  },
  {
   "cell_type": "markdown",
   "id": "0dd945ff",
   "metadata": {},
   "source": [
    "- 시간 초과"
   ]
  },
  {
   "cell_type": "code",
   "execution_count": 24,
   "id": "d1261dd9",
   "metadata": {},
   "outputs": [
    {
     "name": "stdout",
     "output_type": "stream",
     "text": [
      "5\n",
      "2 4 -10 4 -9\n",
      "2 3 0 3 1\n"
     ]
    }
   ],
   "source": [
    "\n",
    "N = int(input())\n",
    "\n",
    "lst = list(map(int, input().split()))\n",
    "\n",
    "sset = set(lst)\n",
    "\n",
    "ans = []\n",
    "\n",
    "for n in lst:\n",
    "    \n",
    "    cnt = 0\n",
    "    \n",
    "    for i in sset:\n",
    "        if n > i:\n",
    "            cnt += 1\n",
    "            \n",
    "    ans.append(cnt)  \n",
    "    \n",
    "print(*ans)"
   ]
  }
 ],
 "metadata": {
  "kernelspec": {
   "display_name": "Python 3 (ipykernel)",
   "language": "python",
   "name": "python3"
  },
  "language_info": {
   "codemirror_mode": {
    "name": "ipython",
    "version": 3
   },
   "file_extension": ".py",
   "mimetype": "text/x-python",
   "name": "python",
   "nbconvert_exporter": "python",
   "pygments_lexer": "ipython3",
   "version": "3.8.16"
  },
  "toc": {
   "base_numbering": 1,
   "nav_menu": {},
   "number_sections": true,
   "sideBar": true,
   "skip_h1_title": false,
   "title_cell": "Table of Contents",
   "title_sidebar": "Contents",
   "toc_cell": false,
   "toc_position": {},
   "toc_section_display": true,
   "toc_window_display": false
  },
  "varInspector": {
   "cols": {
    "lenName": 16,
    "lenType": 16,
    "lenVar": 40
   },
   "kernels_config": {
    "python": {
     "delete_cmd_postfix": "",
     "delete_cmd_prefix": "del ",
     "library": "var_list.py",
     "varRefreshCmd": "print(var_dic_list())"
    },
    "r": {
     "delete_cmd_postfix": ") ",
     "delete_cmd_prefix": "rm(",
     "library": "var_list.r",
     "varRefreshCmd": "cat(var_dic_list()) "
    }
   },
   "types_to_exclude": [
    "module",
    "function",
    "builtin_function_or_method",
    "instance",
    "_Feature"
   ],
   "window_display": false
  }
 },
 "nbformat": 4,
 "nbformat_minor": 5
}
