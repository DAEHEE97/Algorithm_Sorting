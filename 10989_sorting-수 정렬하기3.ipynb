{
 "cells": [
  {
   "cell_type": "markdown",
   "id": "8194d386",
   "metadata": {},
   "source": [
    "- 메모리 초과 해결\n",
    "    - 첫째 줄에 수의 개수 N(1 ≤ N ≤ 10,000,000)\n",
    "    - 10,000보다 작거나 같은 자연수"
   ]
  },
  {
   "cell_type": "code",
   "execution_count": 2,
   "id": "c465ed98",
   "metadata": {},
   "outputs": [
    {
     "name": "stdout",
     "output_type": "stream",
     "text": [
      "10\n",
      "5\n",
      "2\n",
      "3\n",
      "1\n",
      "4\n",
      "2\n",
      "3\n",
      "5\n",
      "1\n",
      "7\n",
      "1\n",
      "1\n",
      "2\n",
      "2\n",
      "3\n",
      "3\n",
      "4\n",
      "5\n",
      "5\n",
      "7\n"
     ]
    }
   ],
   "source": [
    "N = int(input())\n",
    "\n",
    "cnt_lst = [0] * 10001\n",
    "\n",
    "for _ in range(N):\n",
    "    \n",
    "    idx = int(input())\n",
    "    cnt_lst[idx] += 1 # arr[num]에 num이 들어온 개수 count \n",
    "    \n",
    "    \n",
    "for i in range(0, 10001):\n",
    "    \n",
    "    if cnt_lst[i] != 0:\n",
    "        \n",
    "        # 반복 \n",
    "        for n in range(cnt_lst[i]):\n",
    "            print(i)"
   ]
  },
  {
   "cell_type": "markdown",
   "id": "e7476a8b",
   "metadata": {},
   "source": [
    "---"
   ]
  },
  {
   "cell_type": "code",
   "execution_count": null,
   "id": "ec78ed0f",
   "metadata": {},
   "outputs": [],
   "source": [
    "# 입력 메모리 초과\n",
    "\n",
    "N = int(input())\n",
    "\n",
    "cnt_lst = [0] * 10001\n",
    "\n",
    "lst = [ int(input()) for _ in range(N) ]\n",
    "\n",
    "for idx in lst:\n",
    "    \n",
    "    cnt_lst[idx] += 1\n"
   ]
  }
 ],
 "metadata": {
  "kernelspec": {
   "display_name": "Python 3 (ipykernel)",
   "language": "python",
   "name": "python3"
  },
  "language_info": {
   "codemirror_mode": {
    "name": "ipython",
    "version": 3
   },
   "file_extension": ".py",
   "mimetype": "text/x-python",
   "name": "python",
   "nbconvert_exporter": "python",
   "pygments_lexer": "ipython3",
   "version": "3.8.16"
  },
  "toc": {
   "base_numbering": 1,
   "nav_menu": {},
   "number_sections": true,
   "sideBar": true,
   "skip_h1_title": false,
   "title_cell": "Table of Contents",
   "title_sidebar": "Contents",
   "toc_cell": false,
   "toc_position": {},
   "toc_section_display": true,
   "toc_window_display": false
  },
  "varInspector": {
   "cols": {
    "lenName": 16,
    "lenType": 16,
    "lenVar": 40
   },
   "kernels_config": {
    "python": {
     "delete_cmd_postfix": "",
     "delete_cmd_prefix": "del ",
     "library": "var_list.py",
     "varRefreshCmd": "print(var_dic_list())"
    },
    "r": {
     "delete_cmd_postfix": ") ",
     "delete_cmd_prefix": "rm(",
     "library": "var_list.r",
     "varRefreshCmd": "cat(var_dic_list()) "
    }
   },
   "types_to_exclude": [
    "module",
    "function",
    "builtin_function_or_method",
    "instance",
    "_Feature"
   ],
   "window_display": false
  }
 },
 "nbformat": 4,
 "nbformat_minor": 5
}
