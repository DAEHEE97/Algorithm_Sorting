{
 "cells": [
  {
   "cell_type": "markdown",
   "id": "fe43be28",
   "metadata": {},
   "source": [
    "---"
   ]
  },
  {
   "cell_type": "markdown",
   "id": "be09bbf5",
   "metadata": {},
   "source": [
    "- 숫자 형 변환후, 데이터 삽입"
   ]
  },
  {
   "cell_type": "code",
   "execution_count": 21,
   "id": "a2c29238",
   "metadata": {},
   "outputs": [
    {
     "name": "stdout",
     "output_type": "stream",
     "text": [
      "3\n",
      "100 J\n",
      "20 D\n",
      "20 A\n",
      "20 D\n",
      "20 A\n",
      "100 J\n"
     ]
    }
   ],
   "source": [
    "N = int(input())\n",
    " \n",
    "    \n",
    "    \n",
    "# int형으로 삽입을 위해,     \n",
    "arr = []\n",
    "\n",
    "arr = []\n",
    "\n",
    "for _ in range(N):\n",
    "    \n",
    "    age, name = input().split()\n",
    "    arr.append([int(age), name])\n",
    "\n",
    "\n",
    "arr.sort( key=lambda lst:lst[0])\n",
    " \n",
    "for lst in arr:\n",
    "    print(lst[0],lst[1])"
   ]
  },
  {
   "cell_type": "markdown",
   "id": "9585353f",
   "metadata": {},
   "source": [
    "---"
   ]
  },
  {
   "cell_type": "markdown",
   "id": "2ca94ece",
   "metadata": {},
   "source": [
    "- 문자열 오름차순 정렬시, '100' , '20' 우선순위 가 맨 앞 숫자만 보고 판단함"
   ]
  },
  {
   "cell_type": "code",
   "execution_count": 20,
   "id": "45b070ed",
   "metadata": {},
   "outputs": [
    {
     "name": "stdout",
     "output_type": "stream",
     "text": [
      "3\n",
      "100 J\n",
      "20 D\n",
      "20 A\n",
      "100 J\n",
      "20 D\n",
      "20 A\n"
     ]
    }
   ],
   "source": [
    "# 나이가 증가하는 순으로, 나이가 같으면 먼저 가입한 사람이 앞에 오는 순서로 정렬\n",
    "\n",
    "N = int(input())\n",
    "\n",
    "# 먼저 가입한 순서는 자동처리\n",
    "\n",
    "arr = [ input().split() for _ in range(N) ]\n",
    "\n",
    "arr.sort(key = lambda lst:lst[0])\n",
    "\n",
    "for lst in arr:\n",
    "    print(int(lst[0]), lst[1]) \n"
   ]
  }
 ],
 "metadata": {
  "kernelspec": {
   "display_name": "Python 3 (ipykernel)",
   "language": "python",
   "name": "python3"
  },
  "language_info": {
   "codemirror_mode": {
    "name": "ipython",
    "version": 3
   },
   "file_extension": ".py",
   "mimetype": "text/x-python",
   "name": "python",
   "nbconvert_exporter": "python",
   "pygments_lexer": "ipython3",
   "version": "3.8.16"
  },
  "toc": {
   "base_numbering": 1,
   "nav_menu": {},
   "number_sections": true,
   "sideBar": true,
   "skip_h1_title": false,
   "title_cell": "Table of Contents",
   "title_sidebar": "Contents",
   "toc_cell": false,
   "toc_position": {},
   "toc_section_display": true,
   "toc_window_display": false
  },
  "varInspector": {
   "cols": {
    "lenName": 16,
    "lenType": 16,
    "lenVar": 40
   },
   "kernels_config": {
    "python": {
     "delete_cmd_postfix": "",
     "delete_cmd_prefix": "del ",
     "library": "var_list.py",
     "varRefreshCmd": "print(var_dic_list())"
    },
    "r": {
     "delete_cmd_postfix": ") ",
     "delete_cmd_prefix": "rm(",
     "library": "var_list.r",
     "varRefreshCmd": "cat(var_dic_list()) "
    }
   },
   "types_to_exclude": [
    "module",
    "function",
    "builtin_function_or_method",
    "instance",
    "_Feature"
   ],
   "window_display": false
  }
 },
 "nbformat": 4,
 "nbformat_minor": 5
}
