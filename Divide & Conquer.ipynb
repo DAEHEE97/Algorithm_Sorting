{
 "cells": [
  {
   "cell_type": "markdown",
   "id": "96af010c",
   "metadata": {},
   "source": [
    "# Divide & Conquer\n",
    "\n",
    "분할 정복 (divide and conquer)\n",
    "\n",
    "- 큰 문제를 작은 문제로 나눠서(분할하여) 푸는(정복하는) 방법을 알고리즘 설계 기법\n",
    "\n",
    "- 입력 크기가 커서 풀기 어려웠던 문제도 반복해서 잘게 나누다 보면 굉장히 쉬운 문제(종료 조건)가 되는 원리를 이용"
   ]
  },
  {
   "cell_type": "markdown",
   "id": "81d84097",
   "metadata": {},
   "source": [
    "\n",
    "\n",
    "## 병합 정렬 (Merge sort) \n",
    "\n",
    "- 병합 정렬은 주어진 문제를 절반으로 나눈 다음 각각을 재귀 호출로 풀어 가는 방식\n"
   ]
  },
  {
   "cell_type": "markdown",
   "id": "ba822002",
   "metadata": {},
   "source": [
    "---"
   ]
  },
  {
   "cell_type": "code",
   "execution_count": 1,
   "id": "8420d997",
   "metadata": {},
   "outputs": [],
   "source": [
    "# 병합 정렬\n",
    "# 입력 : 리스트 lst\n",
    "# 출력 : 없음(입력으로 주어진 lst가 정렬됨)\n",
    "\n",
    "def merge_sort(lst):\n",
    "    \n",
    "    n = len(lst)\n",
    "    \n",
    "    # 종료 조건: 정렬할 리스트의 자료 개수가 한 개 이하이면 정렬할 필요가 없음\n",
    "    # 즉 자료가 한 개뿐이거나 아예 비어 있다면 정렬할 필요가 없으므로 return\n",
    "    \n",
    "    if n <= 1:\n",
    "        return\n",
    "    \n",
    "    # 그룹을 나누어 각각 병합 정렬을 호출하는 과정\n",
    "    \n",
    "    mid = n // 2    # 중간을 기준으로 두 그룹으로 나눔\n",
    "    g1 = lst[:mid]\n",
    "    g2 = lst[mid:]\n",
    "    merge_sort(g1)  # 재귀 호출로 첫 번째 그룹을 정렬\n",
    "    merge_sort(g2)  # 재귀 호출로 두 번째 그룹을 정렬\n",
    "    \n",
    "    \n",
    "    # 두 그룹을 하나로 병합\n",
    "    \n",
    "    i1 = 0\n",
    "    i2 = 0\n",
    "    ia = 0\n",
    "    \n",
    "    while i1 < len(g1) and i2 < len(g2):\n",
    "        \n",
    "        if g1[i1] < g2[i2]:\n",
    "            lst[ia] = g1[i1]\n",
    "            i1 += 1\n",
    "            ia += 1\n",
    "        \n",
    "        else:\n",
    "            lst[ia] = g2[i2]\n",
    "            i2 += 1\n",
    "            ia += 1 \n",
    "            \n",
    "    # 남아 있는 리스트 값 처리\n",
    "    \n",
    "    while i1 < len(g1):\n",
    "        lst[ia] = g1[i1]\n",
    "        i1 += 1\n",
    "        ia += 1\n",
    "        \n",
    "    while i2 < len(g2):\n",
    "        lst[ia] = g2[i2]\n",
    "        i2 += 1\n",
    "        ia += 1"
   ]
  },
  {
   "cell_type": "code",
   "execution_count": 2,
   "id": "eb3ee525",
   "metadata": {},
   "outputs": [
    {
     "name": "stdout",
     "output_type": "stream",
     "text": [
      "[1, 2, 3, 4, 5, 6, 7, 8, 9, 10]\n"
     ]
    }
   ],
   "source": [
    "lst = [6, 8, 3, 9, 10, 1, 2, 4, 7, 5]\n",
    "merge_sort(lst)\n",
    "\n",
    "print(lst)"
   ]
  },
  {
   "cell_type": "markdown",
   "id": "f51935cb",
   "metadata": {},
   "source": [
    "---"
   ]
  },
  {
   "cell_type": "markdown",
   "id": "7f71d149",
   "metadata": {},
   "source": [
    "## 병합정렬 알고리즘 분석\n",
    "\n",
    "- 분할 정복을 이용한 병합 정렬의 계산 복잡도는 **O(n·logn)**으로 선택 정렬이나 삽입 정렬의 계산 복잡도 O(n2)보다 낮습니다. \n",
    "\n",
    "\n",
    "- 따라서 정렬해야 할 자료의 개수가 많을수록 병합 정렬이 선택 정렬이나 삽입 정렬보다 훨씬 더 빠른 정렬 성능을 발휘합니다.\n",
    "\n",
    "## 병합정렬 활용\n",
    "\n",
    "- 병합 정렬은 외부 정렬의 기본이 되는 정렬 알고리즘입니다.\n",
    "\n",
    "\n",
    "- 연결 리스트에 있는 데이터를 정렬할 때에도 퀵 정렬이나 힙 정렬보다 훨씬 효율적입니다.\n",
    "\n",
    "\n",
    "- 멀티코어 CPU와 다수의 프로세서로 구성된 그래픽 처리 장치의 등장으로 정렬 알고리즘을 병렬화하는 데에 합병 정렬 알고리즘이 활용\n",
    "\n",
    "\n"
   ]
  },
  {
   "cell_type": "markdown",
   "id": "d36e4e97",
   "metadata": {},
   "source": [
    "---"
   ]
  },
  {
   "cell_type": "markdown",
   "id": "0dbfa4ef",
   "metadata": {},
   "source": [
    "\n",
    "## 퀵 정렬 (Quicksort)\n",
    "\n",
    "- 퀵 정렬(Quicksort)은 그룹을 둘로 나눠 재귀 호출하는 방식은 병합 정렬과 같지만, 그룹을 나눌 때 미리 기준과 비교해서 나눈다는 점이 다릅니다.\n",
    "\n",
    "\n",
    "- 즉, 먼저 기준과 비교해서 그룹을 나눈 다음 각각 재귀 호출하여 합치는 방식입니다.\n",
    "\n"
   ]
  },
  {
   "cell_type": "code",
   "execution_count": 3,
   "id": "19d622a8",
   "metadata": {},
   "outputs": [],
   "source": [
    "# 퀵 정렬\n",
    "# 입력 : 리스트 lst\n",
    "# 출력 : 없음(입력으로 주어진 lst가 정렬됨)\n",
    "\n",
    "# 리스트(lst) 에서 어디부터(start) 어디까지(end)가 정렬 대상인지 범위를 지정하여 정렬하는 재귀 호출 함수\n",
    "\n",
    "def quick_sort_sub(lst, start, end):\n",
    "    \n",
    "    # 종료 조건: 정렬 대상이 한 개 이하이면 정렬할 필요가 없음\n",
    "    # 즉 자료가 한 개뿐이거나 아예 비어 있다면 정렬할 필요가 없으므로 return\n",
    "\n",
    "    if end - start <= 0:\n",
    "        return\n",
    "    \n",
    "    # 기준 값을 정하고 기준 값에 맞춰 리스트 안에서 각 자료의 위치를 맞춤\n",
    "    # [기준 값보다 작은 값들, 기준 값, 기준 값보다 큰 값들]\n",
    "    \n",
    "    pivot = lst[end]   # 편의상 리스트의 마지막 값을 기준 값으로 정함\n",
    "    i = start\n",
    "    \n",
    "    for j in range(start, end):\n",
    "        \n",
    "        if lst[j] <= pivot:\n",
    "            lst[i], lst[j] = lst[j], lst[i]\n",
    "            i += 1\n",
    "    \n",
    "    lst[i], lst[end] = lst[end], lst[i]\n",
    "    \n",
    "    \n",
    "    # 재귀 호출 부분\n",
    "    \n",
    "    quick_sort_sub(lst, start, i - 1) # 기준 값보다 작은 그룹을 재귀 호출로 다시 정렬\n",
    "    quick_sort_sub(lst, i + 1, end)  # 기준 값보다 큰 그룹을 재귀 호출로 다시 정렬\n",
    "\n",
    "    \n",
    "# 리스트 전체(0 ~ len(lst) -1)를 대상으로 재귀 호출 함수 호출\n",
    "\n",
    "def quick_sort(lst):\n",
    "    quick_sort_sub(lst, 0, len(lst) - 1)\n",
    "\n"
   ]
  },
  {
   "cell_type": "code",
   "execution_count": 4,
   "id": "a68b358d",
   "metadata": {},
   "outputs": [
    {
     "name": "stdout",
     "output_type": "stream",
     "text": [
      "[1, 2, 3, 4, 5, 6, 7, 8, 9, 10]\n"
     ]
    }
   ],
   "source": [
    "lst = [6, 8, 3, 9, 10, 1, 2, 4, 7, 5]\n",
    "quick_sort(lst)\n",
    "print(lst)"
   ]
  },
  {
   "cell_type": "markdown",
   "id": "fc2cc4f7",
   "metadata": {},
   "source": [
    "---"
   ]
  },
  {
   "cell_type": "markdown",
   "id": "877b06fb",
   "metadata": {},
   "source": [
    "\n",
    "### 퀵 정렬 알고리즘 분석\n",
    "\n",
    "- 퀵 정렬의 계산 복잡도는 최악의 경우 선택 정렬이나 삽입 정렬과 같은 O(n2)이지만, 평균적일 때는 병합 정렬과 같은 **O(n·logn)**입니다.\n",
    "\n",
    "\n",
    "\n",
    "- 편의상 리스트의 마지막 값을 pivot 기준 값으로 정하였지만, 최악의 경우 pivot값이 리스트중 최대값 혹은 최소값일 경우 한쪽 그룸으로만 몰리게 되어, 퀵 정렬의 효율이 낮아집니다.\n",
    "\n",
    "\n",
    "\n",
    "- 따라서 퀵 정렬 에서는 pivot 선정 기준을 정하는 것이 중요합니다.\n",
    "\n",
    "\n",
    "\n",
    "- 하지만 다행히도 좋은 기준 값을 정하는 알고리즘에 관해서는 이미 많이 연구가 되어 있기 때문에 퀵 정렬은 대부분의 경우 O(n·logn)으로 정렬을 마칠 수 있습니다.\n",
    "\n",
    "###  퀵 정렬의 피봇 선정 방법\n",
    "\n",
    "1. 랜덤하게 선정하는 방법\n",
    "\n",
    " \n",
    "2. **3개의 숫자의 중앙값으로 선정하는 방법 (Median of Three)**\n",
    "\n",
    "- 가장 왼쪽 숫자, 중간 숫자, 가장 오른쪽 숫자 중에서 중앙값으로 피봇을 정합니다.\n",
    "\n",
    "- 예를 들어, [31, 1, 26] 중에서 중앙값인 26을 피봇으로 사용하는 것입니다.\n",
    "\n",
    "\n",
    "3. **Median-of-Medians**\n",
    "-  배열을 3등분한 후, 각 부분에서 가장 왼쪽 숫자, 중간 숫자, 가장 오른쪽 숫자 중에서 중앙값을 찾은 후, 세 중앙값들 중에서 중앙값으로 피봇을 정합니다\n",
    "\n",
    "### 퀵 정렬 활용\n",
    "\n",
    " \n",
    "- 커다란 크기의 입력에 대해서 가장 좋은 성능을 보이는 알고리즘\n",
    "\n",
    "\n",
    "- 실질적으로 어느 정렬 알고리즘보다 좋은 성능\n",
    "\n",
    "\n",
    "- 생물 정보 공학(Bioinformatics)에서 특정 유전자를 효율적으로 접미 배열과 함께 활용\n"
   ]
  },
  {
   "cell_type": "markdown",
   "id": "469592e0",
   "metadata": {},
   "source": [
    "---\n"
   ]
  },
  {
   "cell_type": "markdown",
   "id": "78e1a37d",
   "metadata": {},
   "source": [
    "##  선택 문제 알고리즘 (Selection) \n",
    "\n",
    "- 선택(Selection) 문제는 n개의 숫자들 중에서 k번째로 작은 숫자를 찾는 문제입니다.\n",
    "\n",
    "\n",
    "    - 선택 정렬(Selection Sort)과는 다른 알고리즘입니다.\n"
   ]
  },
  {
   "cell_type": "code",
   "execution_count": 7,
   "id": "e0f65599",
   "metadata": {},
   "outputs": [
    {
     "data": {
      "text/plain": [
       "11"
      ]
     },
     "execution_count": 7,
     "metadata": {},
     "output_type": "execute_result"
    }
   ],
   "source": [
    "\n",
    "\n",
    "\n",
    "from random import randint\n",
    "\n",
    "def partition(lst, left, right):\n",
    "    pi = randint(left, right)\n",
    "    if pi != left:\n",
    "        lst[pi], lst[left] = lst[left], lst[pi]\n",
    "\n",
    "    p = left + 1\n",
    "    q = right\n",
    "    \n",
    "    while True:\n",
    "        \n",
    "        while p < right and lst[p] < lst[left]:\n",
    "            p += 1\n",
    "        \n",
    "        while q > left and lst[q] > lst[left]:\n",
    "            q -= 1\n",
    "        \n",
    "        if p >= q:\n",
    "            break\n",
    "\n",
    "        lst[p], lst[q] = lst[q], lst[p]\n",
    "        p +=1\n",
    "        q -=1\n",
    "\n",
    "    lst[left], lst[q] = lst[q], lst[left]\n",
    "    \n",
    "    return q\n",
    "\n",
    "def selection(lst, left, right, k):\n",
    "    \n",
    "    pivot = partition(lst, left, right)\n",
    "    sgs = pivot - left\n",
    "    \n",
    "    if k < sgs:\n",
    "        return selection(lst, left, pivot - 1, k)\n",
    "    \n",
    "    elif k == sgs:\n",
    "        return lst[pivot]\n",
    "    \n",
    "    else:\n",
    "        return selection(lst, pivot + 1, right, k - pivot - 1)\n",
    "\n",
    "    \n",
    "\n",
    "k = 4\n",
    "lst = [6, 18, 23, 19, 100, 11, 26, 4, 17, 5]\n",
    "\n",
    "value = selection(lst, 0, len(lst) - 1, k - 1)\n",
    "value"
   ]
  },
  {
   "cell_type": "markdown",
   "id": "db2322e2",
   "metadata": {},
   "source": [
    "---"
   ]
  },
  {
   "cell_type": "markdown",
   "id": "7ef54ca8",
   "metadata": {},
   "source": [
    "\n",
    "### good 분할과 bad 분할의 정의\n",
    "\n",
    "- 분할된 두 그룹 중의 하나의 크기가 입력 크기의 3/4과 같거나 그보다 크게 분할하면 나쁜(bad) 분할이라고 정의합니다.\n",
    "\n",
    "\n",
    "- 반대의 경우는 좋은 (good) 분할입니다.\n",
    "\n",
    "\n",
    " \n",
    "- 예를 들어 다음과 같이 16개의 숫자가 있다면, 1 ~ 4, 13 ~ 16 사이의 숫자를 피봇으로 고른다면, Bad 분할, 5~ 12사이의 숫자를 고른다면, Good 분할이 됩니다.\n",
    "\n",
    "\n",
    "\n",
    "- good 분할이 되는 피봇을 선택할 확률과 bad 분할이 되는 피봇을 선택할 확률이 각각 1/2로 동일합니다.\n",
    "\n",
    "\n",
    "\n",
    "### 선택 문제 알고리즘 분석\n",
    "\n",
    "- 피봇을 랜덤하게 정했을 때 good 분할이 될 확률이 1/2이므로 평균 2회 연속해서 랜덤하게 피봇을 정하면 good 분할을 할 수 있습니다.\n",
    "\n",
    " \n",
    "- 그렇다면, 2회 연속해서 피봇을 정하면 무조건 good 분할을 한다는 가정하에, good 분할의 연속하여 이루어졌을 때만의 시간 복잡도를 구하여, 그 값에 2를 곱하면 평균 경우 시간 복잡도를 얻을 수 있습니다.\n",
    "\n",
    "\n",
    "- 입력 크기가 n에서부터 3/4배로(최대 3/4 크기고, 실제로는 3/4보다 작은 크기일 수도 있음 편의상 3/4이라고 지칭) 연속적으로 감소되고, 크기가 1일 때에는 더 이상 분할할 수 없습니다.\n",
    "\n",
    " \n",
    "- Selection함수에서는 O(입력크기)의 시간 복잡도를 가지므로, Selection 알고리즘의 시간 복잡도는 각 Selection함수 호출마다 걸린 시간을 다 더한 것의 시간 복잡도입니다.\n",
    " \n",
    " \n",
    "- 따라서 **Selection의 알고리즘은 평균 2회에 good 분할이 되므로 2 x O(n) = O(n)** 입니다. \n",
    "\n",
    "\n",
    "\n",
    "\n",
    "### 선택 알고리즘 활용\n",
    "\n",
    "- 데이터 분석을 위한 중앙값(median)을 찾는데 활용\n",
    "\n",
    "\n",
    "- 데이터 분석에서 평균값도 유용하지만, 중앙값이 더 설득력 있는 데이터 분석을 제공\n"
   ]
  },
  {
   "cell_type": "markdown",
   "id": "6f3aa5be",
   "metadata": {},
   "source": [
    "---"
   ]
  },
  {
   "cell_type": "markdown",
   "id": "b288cfc8",
   "metadata": {},
   "source": [
    "\n",
    "\n",
    "\n",
    "##  최근접 점의 쌍 찾기 알고리즘 (Closest Pair of Points) \n",
    "\n",
    "\n",
    "- 최근접 점의 쌍(Closest Pair)을 찾는 문제는 2차원 평면상의 n개의 점이 입력으로 주어질 때, 거리가 가장 가까운 한 쌍의 점을 찾는 문제로 분할 정복을 이용\n",
    "\n",
    "\n",
    "- **n개의 점을 1/2로 분할**하여 각각의 부분 문제에서 최근접 쌍을 찾고, **2개의 부분 해 중에서 짧은 거리를 가진 점의 쌍**을 일단 찾습니다.\n",
    "\n",
    "\n",
    "- 분할된 왼쪽 점 중에 하나, 오른쪽 점 중에 하나가 최근접점 쌍이 될 수 있으므로 취합할 때 중간 영역을 고려해야합니다.  \n",
    "\n"
   ]
  },
  {
   "cell_type": "code",
   "execution_count": 8,
   "id": "8361ce40",
   "metadata": {},
   "outputs": [
    {
     "name": "stdout",
     "output_type": "stream",
     "text": [
      "The smallest distance is 1.4142135623730951\n"
     ]
    }
   ],
   "source": [
    "\n",
    "\n",
    "import math\n",
    "import copy\n",
    "\n",
    "class Point():\n",
    "    def __init__(self, x, y):\n",
    "        self.x = x\n",
    "        self.y = y\n",
    "\n",
    "def dist(p1, p2):\n",
    "    return math.sqrt((p1.x - p2.x) *\n",
    "                     (p1.x - p2.x) +\n",
    "                     (p1.y - p2.y) *\n",
    "                     (p1.y - p2.y))\n",
    "\n",
    "\n",
    "def bruteForce(P, n):\n",
    "    min_val = float('inf')\n",
    "    \n",
    "    for i in range(n):\n",
    "        \n",
    "        for j in range(i + 1, n):\n",
    "            \n",
    "            if dist(P[i], P[j]) < min_val:\n",
    "                \n",
    "                min_val = dist(P[i], P[j])\n",
    "\n",
    "    return min_val\n",
    "\n",
    "def stripClosest(strip, size, d):\n",
    "    min_val = d\n",
    "\n",
    "    for i in range(size):\n",
    "        j = i + 1\n",
    "        \n",
    "        while j < size and (strip[j].y -strip[i].y) < min_val:\n",
    "            \n",
    "            min_val = dist(strip[i], strip[j])\n",
    "            j += 1\n",
    "\n",
    "    return min_val\n",
    "\n",
    "def closestUtil(P, Q, n):\n",
    "\n",
    "    if n <= 3:\n",
    "        return bruteForce(P, n)\n",
    "\n",
    "    mid = n // 2\n",
    "    midPoint = P[mid]\n",
    "    Pl = P[:mid]\n",
    "    Pr = P[mid:]\n",
    "\n",
    "    dl = closestUtil(Pl, Q, mid)\n",
    "    dr = closestUtil(Pr, Q, n - mid)\n",
    "\n",
    "    d = min(dl, dr)\n",
    "\n",
    "    stripP = []\n",
    "    stripQ = []\n",
    "    lr = Pl + Pr\n",
    "    \n",
    "    for i in range(n):\n",
    "        \n",
    "        if abs(lr[i].x - midPoint.x) < d:\n",
    "            stripP.append(lr[i])\n",
    "        \n",
    "        if abs(Q[i].x - midPoint.x) < d:\n",
    "            stripQ.append(Q[i])\n",
    "\n",
    "    stripP.sort(key = lambda point: point.y) #<-- REQUIRED\n",
    "    \n",
    "    min_a = min(d, stripClosest(stripP, len(stripP), d))\n",
    "    min_b = min(d, stripClosest(stripQ, len(stripQ), d))\n",
    "    \n",
    "    return min(min_a,min_b)\n",
    "\n",
    "def closest(P, n):\n",
    "    P.sort(key = lambda point: point.x)\n",
    "    Q = copy.deepcopy(P)\n",
    "    Q.sort(key = lambda point: point.y)\n",
    "\n",
    "    return closestUtil(P, Q, n)\n",
    "\n",
    "P = [Point(2, 3), Point(12, 30),\n",
    "     Point(40, 50), Point(5, 1),\n",
    "     Point(12, 10), Point(3, 4)]\n",
    "\n",
    "n = len(P)\n",
    "\n",
    "print(\"The smallest distance is\", closest(P, n))\n",
    "\n",
    "\n"
   ]
  },
  {
   "cell_type": "markdown",
   "id": "a10ca1b3",
   "metadata": {},
   "source": [
    "---"
   ]
  },
  {
   "cell_type": "markdown",
   "id": "9771fc0a",
   "metadata": {},
   "source": [
    "\n",
    "### 최근접 점의 쌍 찾기 알고리즘 분석\n",
    "\n",
    "\n",
    "x좌표를 기준으로 정렬된 점 리스트 : S , SL(분활된 왼쪽), SR(분활된 오른쪽)\n",
    "\n",
    "- S에 n개의 점이 있으면 전처리과정으로서 S의 점을 x-좌표로 정렬: **O(nlogn)**\n",
    "\n",
    "\n",
    "- S에 3개의 점이 있는 경우에 3번, 2개의 점이면 1번 거리 계산이 필요: **O(1)**\n",
    "\n",
    "\n",
    "- 정렬된 S를 SL과 SR로 분할하는데, 이미 배열에 정렬되어 있으므로, 배열의 중간 인덱스로 분할: **O(1)**\n",
    "\n",
    "\n",
    "- 3개의 점의 쌍 중에서 가장 짧은 거리를 가진 점의 쌍을 리턴: O(1)\n",
    "\n",
    "\n",
    "- 중간 영역의 점 계산으로 인하여 ClosestPair 알고리즘에서는 해를 취합하여 올라가는 과정에서 O(nlogn) 시간이 필요합니다. \n",
    "\n",
    "\n",
    "- k층까지 분할된 후, 층별로 수행되는 취합 과정에서 각 층의 수행 시간은 O(nlogn), 여기에 층 수인 logn을 곱하면 최종 시간복잡도인 **$O(n*log^2n)$** 을 얻을 수 있습니다.\n"
   ]
  },
  {
   "cell_type": "code",
   "execution_count": null,
   "id": "da5763d7",
   "metadata": {},
   "outputs": [],
   "source": []
  }
 ],
 "metadata": {
  "kernelspec": {
   "display_name": "Python 3 (ipykernel)",
   "language": "python",
   "name": "python3"
  },
  "language_info": {
   "codemirror_mode": {
    "name": "ipython",
    "version": 3
   },
   "file_extension": ".py",
   "mimetype": "text/x-python",
   "name": "python",
   "nbconvert_exporter": "python",
   "pygments_lexer": "ipython3",
   "version": "3.11.2"
  }
 },
 "nbformat": 4,
 "nbformat_minor": 5
}
