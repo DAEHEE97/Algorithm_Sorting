{
 "cells": [
  {
   "cell_type": "code",
   "execution_count": null,
   "id": "f1cb65d9",
   "metadata": {},
   "outputs": [],
   "source": [
    "# 길이가 짧은 것부터\n",
    "# 길이가 같으면 사전 순으로\n",
    "# 중복제거\n",
    "\n",
    "N = int(input())\n",
    "\n",
    "lst = [ input() for _ in range(N) ]\n",
    "\n",
    "lst = list(set(lst))\n",
    "\n",
    "lst.sort()\n",
    "lst.sort(key = lambda x:len(x))\n",
    "\n",
    "\n",
    "for s in lst:\n",
    "    \n",
    "    print(s)"
   ]
  },
  {
   "cell_type": "markdown",
   "id": "15f20b8b",
   "metadata": {},
   "source": [
    "```\n",
    "i\n",
    "im\n",
    "it\n",
    "no\n",
    "no\n",
    "but\n",
    "more\n",
    "more\n",
    "wait\n",
    "wont\n",
    "yours\n",
    "cannot\n",
    "hesitate\n",
    "```"
   ]
  },
  {
   "cell_type": "markdown",
   "id": "dec009af",
   "metadata": {},
   "source": [
    "---"
   ]
  },
  {
   "cell_type": "code",
   "execution_count": null,
   "id": "640a7e05",
   "metadata": {},
   "outputs": [],
   "source": [
    "# 길이가 짧은 것부터\n",
    "# 길이가 같으면 사전 순으로\n",
    "\n",
    "\n",
    "N = int(input())\n",
    "\n",
    "arr = [ list(input()) for _ in range(N) ]\n",
    "\n",
    "arr.sort()\n",
    "\n",
    "arr.sort(key = lambda lst:len(lst))\n",
    "\n",
    "for s in arr:\n",
    "    \n",
    "    print(s)"
   ]
  },
  {
   "cell_type": "markdown",
   "id": "062e9f21",
   "metadata": {},
   "source": [
    "```\n",
    "['i']\n",
    "['i', 'm']\n",
    "['i', 't']\n",
    "['n', 'o']\n",
    "['n', 'o']\n",
    "['b', 'u', 't']\n",
    "['m', 'o', 'r', 'e']\n",
    "['m', 'o', 'r', 'e']\n",
    "['w', 'a', 'i', 't']\n",
    "['w', 'o', 'n', 't']\n",
    "['y', 'o', 'u', 'r', 's']\n",
    "['c', 'a', 'n', 'n', 'o', 't']\n",
    "['h', 'e', 's', 'i', 't', 'a', 't', 'e']\n",
    "```"
   ]
  },
  {
   "cell_type": "code",
   "execution_count": null,
   "id": "1a68f050",
   "metadata": {},
   "outputs": [],
   "source": [
    "for lst in arr:\n",
    "    \n",
    "    print(''.join(lst))"
   ]
  }
 ],
 "metadata": {
  "kernelspec": {
   "display_name": "Python 3 (ipykernel)",
   "language": "python",
   "name": "python3"
  },
  "language_info": {
   "codemirror_mode": {
    "name": "ipython",
    "version": 3
   },
   "file_extension": ".py",
   "mimetype": "text/x-python",
   "name": "python",
   "nbconvert_exporter": "python",
   "pygments_lexer": "ipython3",
   "version": "3.8.16"
  },
  "toc": {
   "base_numbering": 1,
   "nav_menu": {},
   "number_sections": true,
   "sideBar": true,
   "skip_h1_title": false,
   "title_cell": "Table of Contents",
   "title_sidebar": "Contents",
   "toc_cell": false,
   "toc_position": {},
   "toc_section_display": true,
   "toc_window_display": false
  },
  "varInspector": {
   "cols": {
    "lenName": 16,
    "lenType": 16,
    "lenVar": 40
   },
   "kernels_config": {
    "python": {
     "delete_cmd_postfix": "",
     "delete_cmd_prefix": "del ",
     "library": "var_list.py",
     "varRefreshCmd": "print(var_dic_list())"
    },
    "r": {
     "delete_cmd_postfix": ") ",
     "delete_cmd_prefix": "rm(",
     "library": "var_list.r",
     "varRefreshCmd": "cat(var_dic_list()) "
    }
   },
   "types_to_exclude": [
    "module",
    "function",
    "builtin_function_or_method",
    "instance",
    "_Feature"
   ],
   "window_display": false
  }
 },
 "nbformat": 4,
 "nbformat_minor": 5
}
